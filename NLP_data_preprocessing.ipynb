{
  "nbformat": 4,
  "nbformat_minor": 0,
  "metadata": {
    "colab": {
      "name": "IITB_Internship_Assignment_Code.ipynb",
      "provenance": []
    },
    "kernelspec": {
      "name": "python3",
      "display_name": "Python 3"
    }
  },
  "cells": [
    {
      "cell_type": "code",
      "metadata": {
        "id": "3RbgM4Z_gZ3g",
        "colab_type": "code",
        "outputId": "6c041378-8298-4558-b1cf-07be23a77cd1",
        "colab": {
          "base_uri": "https://localhost:8080/",
          "height": 35
        }
      },
      "source": [
        "from google.colab import drive\n",
        "drive.mount('/content/drive/')"
      ],
      "execution_count": 103,
      "outputs": [
        {
          "output_type": "stream",
          "text": [
            "Drive already mounted at /content/drive/; to attempt to forcibly remount, call drive.mount(\"/content/drive/\", force_remount=True).\n"
          ],
          "name": "stdout"
        }
      ]
    },
    {
      "cell_type": "code",
      "metadata": {
        "id": "xAHVq7KMQAfM",
        "colab_type": "code",
        "outputId": "4b38a42e-8637-4213-ad77-506e5f467692",
        "colab": {
          "base_uri": "https://localhost:8080/",
          "height": 126
        }
      },
      "source": [
        "import lxml\n",
        "from bs4 import BeautifulSoup as bs\n",
        "import re\n",
        "import nltk\n",
        "import codecs\n",
        "nltk.download('punkt')\n",
        "nltk.download('stopwords')\n",
        "nltk.download('wordnet')\n",
        "from nltk.tokenize import RegexpTokenizer\n",
        "from nltk.tokenize import sent_tokenize\n",
        "from nltk.corpus import stopwords \n",
        "from nltk.stem import PorterStemmer \n",
        "from nltk.stem import \tWordNetLemmatizer"
      ],
      "execution_count": 104,
      "outputs": [
        {
          "output_type": "stream",
          "text": [
            "[nltk_data] Downloading package punkt to /root/nltk_data...\n",
            "[nltk_data]   Package punkt is already up-to-date!\n",
            "[nltk_data] Downloading package stopwords to /root/nltk_data...\n",
            "[nltk_data]   Package stopwords is already up-to-date!\n",
            "[nltk_data] Downloading package wordnet to /root/nltk_data...\n",
            "[nltk_data]   Package wordnet is already up-to-date!\n"
          ],
          "name": "stdout"
        }
      ]
    },
    {
      "cell_type": "code",
      "metadata": {
        "id": "IDPxvJuQj7xN",
        "colab_type": "code",
        "colab": {}
      },
      "source": [
        "#Converting XML File into Text String\n",
        "\n",
        "def read_xml(file_path):\n",
        "    #file_path = \"/content/drive/My Drive/Colab Notebooks/The Blog Authorship Dataset/11253.male.26.Technology.Aquarius.xml\"\n",
        "    content = []\n",
        "    with open(file_path, \"r\") as file:        \n",
        "         content = file.readlines()\n",
        "         content = \"\".join(content)\n",
        "         bs_content = bs(content, \"lxml\")\n",
        "         content = re.sub('<[^<]+>', \"\", content)\n",
        "    return content"
      ],
      "execution_count": 0,
      "outputs": []
    },
    {
      "cell_type": "code",
      "metadata": {
        "id": "vbk3bMmaWNap",
        "colab_type": "code",
        "outputId": "826cef9e-8837-471d-eee5-3a77e194d32b",
        "colab": {
          "base_uri": "https://localhost:8080/",
          "height": 53
        }
      },
      "source": [
        "#Taking File name as input from User\n",
        "\n",
        "file_name = input(\"Enter the XML File name\\n\")\n",
        "file_path = \"/content/drive/My Drive/Colab Notebooks/The Blog Authorship Dataset/\" + str(file_name)\n",
        "file_content = read_xml(file_path)\n",
        "seperated_file_content = list(filter(lambda x : x != '', file_content.split('\\n\\n')))\n",
        "no_of_paragraphs = len(seperated_file_content)"
      ],
      "execution_count": 107,
      "outputs": [
        {
          "output_type": "stream",
          "text": [
            "Enter the XML File name\n",
            "11253.male.26.Technology.Aquarius.xml\n"
          ],
          "name": "stdout"
        }
      ]
    },
    {
      "cell_type": "code",
      "metadata": {
        "id": "mpjRg8RoQMDH",
        "colab_type": "code",
        "outputId": "fa1cf506-8be0-4c99-855b-903a2a908274",
        "colab": {
          "base_uri": "https://localhost:8080/",
          "height": 146
        }
      },
      "source": [
        "#Question 1: Tokenization\n",
        "\n",
        "tokenizer = RegexpTokenizer(r'\\w+')\n",
        "#Word Tokenization\n",
        "word_tokens = tokenizer.tokenize(file_content)\n",
        "#Sentence Tokenization\n",
        "sentence_tokens = sent_tokenize(file_content)\n",
        "#Displaying Word Tokens and Sentence Tokens\n",
        "print(\"The word tokens are:\")\n",
        "print(word_tokens)\n",
        "print(\"\\n\")\n",
        "print(\"The sentence tokens are:\")\n",
        "print(sentence_tokens)"
      ],
      "execution_count": 112,
      "outputs": [
        {
          "output_type": "stream",
          "text": [
            "The word tokens are:\n",
            "['20', 'July', '2004', 'About', 'to', 'go', 't', 'bed', 'late', 'again', 'got', 'sucked', 'into', 'another', 'late', 'night', 'film', 'Tonight', 'was', 'urlLink', 'Maybe', 'Baby', 'It', 'was', 'really', 'good', 'made', 'me', 'think', 'but', 'not', 'about', 'babies', 'The', 'guy', 'screws', 'up', 'his', 'marriage', 'and', 'it', 'made', 'me', 'think', 'about', 'making', 'sure', 'everyday', 'that', 'mine', 'is', 'tip', 'top', 'If', 'I', 'm', 'honest', 'there', 'are', 'areas', 'that', 'we', 'are', 'just', 'getting', 'by', 'in', 'so', 'I', 'need', 'to', 'resolve', 'to', 'sort', 'them', 'out', 'now', 'before', 'they', 'are', 'a', 'problem', 'In', 'the', 'film', 'they', 'both', 'keep', 'diaries', 'so', 'I', 'thought', 'I', 'should', 'blog', 'tonight', 'nbsp', 'Weekend', 'was', 'hectic', 'but', 'great', 'fun', 'Not', 'that', 'long', 'ago', 'k', 'and', 'I', 'had', 'to', 'work', 'on', 'spending', 'time', 'with', 'other', 'people', 'as', 'a', 'couple', 'This', 'weekend', 'we', 'never', 'ate', 'alone', 'except', 'breakfast', 'nbsp', 'K', 'P', 'and', 'I', 'went', 'for', 'a', 'very', 'breif', 'trip', 'on', 'the', 'river', 'saturday', 'durring', 'a', 'gap', 'in', 'the', 'weather', 'K', 'stripped', 'off', 'and', 'went', 'for', 'a', 'swim', 'I', 'love', 'her', 'so', 'much', 'nbsp', 'Tonight', 'we', 'went', 'out', 'for', 'dinner', 'It', 'was', 'a', 'lovely', 'evening', 'the', 'first', 'in', 'weeks', 'so', 'we', 'ate', 'at', 'the', 'Bridge', 'and', 'sat', 'outside', 'next', 'to', 'the', 'urlLink', 'river', '14', 'July', '2004', 'My', 'Dad', 'has', 'always', 'wanted', 'to', 'go', 'to', 'urlLink', 'America', 'I', 'have', 'been', 'several', 'times', 'for', 'holidays', 'to', 'see', 'friends', 'or', 'for', 'work', 'I', 'd', 'love', 'to', 'go', 'with', 'Dad', 'and', 'go', 'on', 'a', 'long', 'road', 'trip', 'Would', 'make', 'a', 'better', 'blog', 'than', 'this', '12', 'July', '2004', 'is', 'a', 'guy', 'painting', 'a', 'blue', 'wall', 'blue', '11', 'July', '2004', 'Can', 't', 'the', 'urlLink', 'weather', 'just', 'sort', 'itself', 'out', 'I', 'm', 'sure', 'we', 'd', 'already', 'had', '2', 'heat', 'waves', 'by', 'this', 'point', 'last', 'year', 'I', 'look', 'out', 'of', 'my', 'window', 'on', 'yet', 'another', 'grey', 'day', 'I', 'wouldn', 't', 'mind', 'but', 'this', 'is', 'the', 'last', 'free', 'weekend', 'I', 'll', 'have', 'in', 'a', 'while', 'I', 'want', 'to', 'be', 'out', 'enjoying', 'it', 'Yesterday', 'we', 'wrote', 'some', 'thank', 'you', 'cards', 'Kirsten', 'worked', 'on', 'the', 'garden', 'and', 'I', 'bottled', 'my', 'latest', 'batch', 'of', 'urlLink', 'beer', 'In', 'the', 'evening', 'Anna', 'and', 'Jon', 'came', 'around', 'for', 'dinner', 'I', 'made', 'a', 'lasagne', 'for', 'the', 'first', 'time', 'and', 'it', 'was', 'good', 'fun', 'I', 'd', 'not', 'been', 'feeling', 'too', 'great', 'all', 'day', 'and', 'was', 'exhausted', 'by', 'bed', 'time', 'This', 'morning', 'K', 'felt', 'ill', 'and', 'stayed', 'in', 'bed', 'I', 'was', 'stewarding', 'at', 'church', 'and', 'as', 'usual', 'I', 'was', 'put', 'on', 'car', 'parking', 'We', 'I', 'messed', 'up', 'giving', 'out', 'the', 'buckets', 'for', 'the', 'offering', 'but', 'it', 'was', 'ok', 'After', 'church', 'I', 'dropped', 'some', 'firewood', 'around', 'to', 'Liz', 'and', 'dropped', 'off', 'K', 's', 'keys', 'while', 'I', 'was', 'there', 'Liz', 'wasn', 't', 'in', 'but', 'I', 'saw', 'paddy', 'through', 'the', 'back', 'door', 'as', 'I', 'left', 'the', 'wood', 'I', 'don', 't', 'feel', 'that', 'great', 'myself', 'Might', 'be', 'time', 'to', 'join', 'K', 'in', 'the', 'sick', 'bed', '09', 'July', '2004', 'At', 'last', 'back', 'to', 'a', 'normal', 'company', 'where', 'it', 'expected', 'that', 'you', 'go', 'to', 'the', 'pub', 'at', 'lunch', 'on', 'Fridays', 'Plus', 'they', 'have', 'free', 'breakfast', 'quite', 'a', 'spread', 'too', 'Good', 'to', 'do', 'a', 'bit', 'of', 'socialising', '08', 'July', '2004', 'Induction', 'on', 'Monday', 'was', 'in', 'a', 'building', 'right', 'opposite', 'the', 'urlLink', 'gherkin', 'If', 'I', 'd', 'known', 'I', 'would', 'have', 'taken', 'my', 'camera', 'I', 'had', 'a', 'bit', 'of', 'time', 'to', 'kill', 'after', 'getting', 'off', 'the', 'train', 'so', 'I', 'went', 'for', 'a', 'bit', 'of', 'a', 'wander', 'around', 'the', 'city', 'So', 'I', 've', 'been', 'in', 'the', 'Cambridge', 'office', 'for', '3', 'days', 'now', 'The', 'job', 'is', 'good', 'and', 'the', 'people', 'friendly', 'There', 'is', 'no', 'tuckshop', 'which', 'will', 'be', 'good', 'for', 'my', 'waistline', 'but', 'currently', 'I', 'm', 'craving', 'snacks', 'My', 'urlLink', 'HDD', 'case', 'arrived', 'on', 'Tuesday', 'I', 'had', 'a', 'few', 'problems', 'at', 'first', 'getting', 'it', 'working', 'with', 'the', 'aluminum', 'case', 'on', 'but', 'once', 'I', 'added', 'a', 'bit', 'of', 'card', 'under', 'the', 'circuit', 'board', 'to', 'act', 'as', 'insulation', 'it', 'worked', 'fine', 'It', 'is', 'really', 'small', 'hardly', 'bigger', 'than', 'a', '2', '5', 'drive', 'and', 'it', 'works', 'really', 'well', 'Also', 'to', 'arrive', 'on', 'Tuesday', 'was', 'the', 'adoption', 'certificate', 'for', 'my', 'gibbon', 'NCorp', 'urlLink', 'adopted', 'me', 'a', 'gibbon', 'to', 'remind', 'me', 'of', 'them', 'as', 'my', 'leaving', 'gift', 'I', 'm', 'sure', 'that', 'I', 'have', 'a', 'part', 'share', 'in', 'a', 'whole', 'troop', 'of', 'gibbons', 'but', 'I', 'like', 'to', 'think', 'there', 'is', 'one', 'that', 's', 'mine', 'I', 'have', 'called', 'him', 'Dobbo', 'Andy', 'Anita', 'came', 'to', 'dinner', 'on', 'Tuesday', 'night', 'After', 'dinner', 'the', 'whole', 'proceedings', 'kind', 'of', 'deteriorated', 'into', 'Kirsten', 'and', 'Anita', 'playing', 'the', 'drums', 'while', 'Andy', 'tried', 'to', 'fix', 'my', 'urlLink', 'sparc', 'station', 'Much', 'fun', 'was', 'had', 'by', 'all', 'Yesterday', 'Labhaoise', 'passed', 'her', 'driving', 'test', 'so', 'K', 'and', 'her', 'when', 'to', 'look', 'at', 'cars', 'together', 'Pete', 'Labhaoise', 'K', 'and', 'I', 'went', 'to', 'see', 'urlLink', 'Shrek', '2', 'in', 'the', 'evening', 'which', 'was', 'really', 'good', 'Labhaoise', 'was', 'going', 'to', 'drive', 'us', 'home', 'but', 'then', 'the', 'lights', 'in', 'Pete', 's', 'car', 'broke', 'again', 'so', 'he', 'drove', 'us', 'back', 'to', 'our', 'house', 'Pete', 'and', 'I', 'urlLink', 'fixed', 'the', 'lights', 'so', 'Labhaoise', 'could', 'drive', 'the', 'car', 'back', 'to', 'their', 'house', '04', 'July', '2004', 'Welcome', 'back', 'Well', 'sort', 'of', 'I', 'discovered', 'that', 'my', 'old', 'blog', 'from', '2000', 'was', 'still', 'on', 'the', 'blogger', 'com', 'server', 'I', 'read', 'the', 'thirteen', 'posts', 'and', 'they', 'were', 'really', 'dull', 'so', 'I', 'deleted', 'the', 'blog', 'It', 'was', 'from', 'the', 'days', 'when', 'I', 'was', 'living', 'with', 'my', 'Dad', 'after', 'uni', 'and', 'working', 'for', 'Pilks', 'It', 'was', 'a', 'month', 'or', 'two', 'before', 'I', 'went', 'to', 'work', 'in', 'the', 'USA', 'which', 'would', 'have', 'made', 'a', 'much', 'more', 'interesting', 'blog', 'had', 'I', 'done', 'it', 'Tomorrow', 'I', 'm', 'off', 'to', 'London', 'for', 'my', 'induction', 'meeting', 'at', 'my', 'new', 'company', 'I', 'm', 'so', 'relieved', 'to', 'leave', 'NCorp', 'that', 'I', 'haven', 't', 'really', 'given', 'the', 'new', 'place', 'much', 'thought', 'I', 'm', 'sure', 'it', 'will', 'be', 'great', 'I', 'was', 'really', 'into', 'the', 'new', 'place', '3', 'months', 'ago', 'when', 'I', 'got', 'the', 'job', 'but', 'urlLink', 'the', 'pangalactic', 'bellwether', 'in', 'miserable', 'notice', 'periods', 'has', 'kind', 'of', 'taken', 'the', 'sparkle', 'off', 'it', 'a', 'bit', 'At', 'least', 'the', 'train', 'ride', 'down', 'will', 'give', 'me', 'time', 'to', 'write', 'to', 'manda', 'haven', 't', 'been', 'in', 'touch', 'since', 'the', 'wedding', 'bad', 'pen', 'pal']\n",
            "\n",
            "\n",
            "The sentence tokens are:\n",
            "['\\n\\n20,July,2004\\n\\n\\n     \\n      About to go t bed late (again) got sucked into (another) late night film.', 'Tonight was  urlLink Maybe Baby .', 'It was really good made me think, but not about babies.', 'The guy screws up his marriage and it made me think about making sure, everyday, that mine is tip top.', \"If I'm honest there are areas that we are just getting by in - so I need to resolve to sort them out now before they are a problem.\", 'In the film they both keep diaries so I thought I should blog tonight.&nbsp;   Weekend was hectic but great fun.', 'Not that long ago k and I had to work on spending time with other people as a couple.', 'This weekend we never ate alone, except breakfast.&nbsp; K, P and I went for a very breif trip on the river saturday durring a gap in the weather.', 'K stripped off and went for a swim, I love her so much.&nbsp;   Tonight we went out for dinner.', 'It was a lovely evening, the first in weeks, so we ate at the Bridge and sat outside, next to the  urlLink river .', '14,July,2004\\n\\n\\n     \\n      My Dad has always wanted to go to  urlLink America .', 'I have been several times, for holidays, to see friends or for work.', \"I'd love to go with Dad and go on a long road trip.\", 'Would make a better blog than this.', '12,July,2004\\n\\n\\n     \\n      ...is a guy painting a blue wall blue.', \"11,July,2004\\n\\n\\n     \\n      Can't the  urlLink weather  just sort itself out.\", \"I'm sure we'd already had 2 heat waves by this point last year.\", 'I look out of my window on yet another grey day.', \"I wouldn't mind but this is the last free weekend I'll have in a while I want to be out enjoying it.\", 'Yesterday we wrote some thank you cards.', 'Kirsten worked on the garden and I bottled my latest batch of  urlLink beer .', 'In the evening Anna and Jon came around for dinner.', 'I made a lasagne, for the first time, and it was good fun.', \"I'd not been feeling too great all day and was exhausted by bed time.\", 'This morning K felt ill and stayed in bed.', 'I was stewarding at church and as usual I was put on car parking.', \"We(I) messed up giving out the buckets for the offering but it was ok. After church I dropped some firewood around to Liz and dropped off K's keys while I was there.\", \"Liz wasn't in but I saw paddy through the back door as I left the wood.\", \"I don't feel that great myself.\", 'Might be time to join K in the sick bed.', '09,July,2004\\n\\n\\n     \\n      At last back to a normal company where it expected that you go to the pub at lunch on Fridays.', 'Plus they have free breakfast (quite a spread too!).', 'Good to do a bit of socialising.', '08,July,2004\\n\\n\\n     \\n      Induction, on Monday, was in a building right opposite the  urlLink gherkin .', \"If I'd known I would have taken my camera.\", 'I had a bit of time to kill after getting off the train so I went for a bit of a wander around the city.', \"So I've been in the Cambridge office for 3 days now.\", 'The job is good and the people friendly.', \"There is no tuckshop which will be good for my waistline but currently I'm craving snacks!\", 'My  urlLink HDD case  arrived on Tuesday.', 'I had a few problems at first getting it working with the aluminum case on but once I added a bit of card under the circuit board to act as insulation it worked fine.', 'It is really small, hardly bigger than a 2.5\" drive and it works really well.', 'Also to arrive on Tuesday was the adoption certificate for my gibbon.', 'NCorp  urlLink adopted  me a gibbon to remind me of them as my leaving gift.', \"I'm sure that I have a part share in a whole troop of gibbons but I like to think there is one that's mine.\", 'I have called him Dobbo.', 'Andy & Anita came to dinner on Tuesday night.', 'After dinner the whole proceedings kind of deteriorated into Kirsten and Anita playing the drums while Andy tried to fix my  urlLink sparc station .', 'Much fun was had by all.', 'Yesterday Labhaoise passed her driving test so K and her when to look at cars together.', 'Pete, Labhaoise, K and I went to see  urlLink Shrek 2  in the evening which was really good.', \"Labhaoise was going to drive us home but then the lights in Pete's car broke (again) so he drove us back to our house.\", 'Pete and I  urlLink fixed  the lights so Labhaoise could drive the car back to their house.', '04,July,2004\\n\\n\\n     \\n      Welcome back.', 'Well sort of, I discovered that my old blog from 2000 was still on the blogger.com server.', 'I read the thirteen posts and they were really dull so I deleted the blog.', 'It was from the days when I was living with my Dad after uni and working for Pilks.', 'It was a month or two before I went to work in the USA which would have made a much more interesting blog had I done it.', \"Tomorrow I'm off to London for my induction meeting at my new company.\", \"I'm so relieved to leave NCorp that I haven't really given the new place much thought.\", \"I'm sure it will be great, I was really into the new place 3 months ago when I got the job but  urlLink the pangalactic bellwether in miserable notice periods  has kind of taken the sparkle off it a bit.\", \"At least the train ride down will give me time to write to manda - haven't been in touch since the wedding - bad pen pal!\"]\n"
          ],
          "name": "stdout"
        }
      ]
    },
    {
      "cell_type": "code",
      "metadata": {
        "id": "R2ePCgZRVEyC",
        "colab_type": "code",
        "outputId": "020c565e-2f3e-40a7-eb82-c7bbf422c364",
        "colab": {
          "base_uri": "https://localhost:8080/",
          "height": 800
        }
      },
      "source": [
        "# Question 2: Frequency Distribution (per Paragraph)\n",
        "\n",
        "pairs = []\n",
        "#Finding Frequency Distribution for each Paragraph in text\n",
        "for i in range(no_of_paragraphs):\n",
        "   word_token_para = tokenizer.tokenize(seperated_file_content[i])\n",
        "   wordfreq = []\n",
        "   for w in word_token_para:\n",
        "       wordfreq.append(word_token_para.count(w))\n",
        "   pairs = pairs + list(zip(word_token_para, wordfreq))\n",
        "   print(\"Word-Frequency Pairs for paragraph \" + str(i+1) + \"\\n\" + str(list(zip(word_token_para, wordfreq))) + \"\\n\")"
      ],
      "execution_count": 42,
      "outputs": [
        {
          "output_type": "stream",
          "text": [
            "Word-Frequency Pairs for paragraph 1\n",
            "[('20', 1), ('July', 1), ('2004', 1)]\n",
            "\n",
            "Word-Frequency Pairs for paragraph 2\n",
            "[('About', 1), ('to', 5), ('go', 1), ('t', 1), ('bed', 1), ('late', 2), ('again', 1), ('got', 1), ('sucked', 1), ('into', 1), ('another', 1), ('late', 2), ('night', 1), ('film', 2), ('Tonight', 2), ('was', 4), ('urlLink', 2), ('Maybe', 1), ('Baby', 1), ('It', 2), ('was', 4), ('really', 1), ('good', 1), ('made', 2), ('me', 2), ('think', 2), ('but', 2), ('not', 1), ('about', 2), ('babies', 1), ('The', 1), ('guy', 1), ('screws', 1), ('up', 1), ('his', 1), ('marriage', 1), ('and', 5), ('it', 1), ('made', 2), ('me', 2), ('think', 2), ('about', 2), ('making', 1), ('sure', 1), ('everyday', 1), ('that', 3), ('mine', 1), ('is', 1), ('tip', 1), ('top', 1), ('If', 1), ('I', 7), ('m', 1), ('honest', 1), ('there', 1), ('are', 3), ('areas', 1), ('that', 3), ('we', 4), ('are', 3), ('just', 1), ('getting', 1), ('by', 1), ('in', 3), ('so', 4), ('I', 7), ('need', 1), ('to', 5), ('resolve', 1), ('to', 5), ('sort', 1), ('them', 1), ('out', 2), ('now', 1), ('before', 1), ('they', 2), ('are', 3), ('a', 6), ('problem', 1), ('In', 1), ('the', 6), ('film', 2), ('they', 2), ('both', 1), ('keep', 1), ('diaries', 1), ('so', 4), ('I', 7), ('thought', 1), ('I', 7), ('should', 1), ('blog', 1), ('tonight', 1), ('nbsp', 3), ('Weekend', 1), ('was', 4), ('hectic', 1), ('but', 2), ('great', 1), ('fun', 1), ('Not', 1), ('that', 3), ('long', 1), ('ago', 1), ('k', 1), ('and', 5), ('I', 7), ('had', 1), ('to', 5), ('work', 1), ('on', 2), ('spending', 1), ('time', 1), ('with', 1), ('other', 1), ('people', 1), ('as', 1), ('a', 6), ('couple', 1), ('This', 1), ('weekend', 1), ('we', 4), ('never', 1), ('ate', 2), ('alone', 1), ('except', 1), ('breakfast', 1), ('nbsp', 3), ('K', 2), ('P', 1), ('and', 5), ('I', 7), ('went', 3), ('for', 3), ('a', 6), ('very', 1), ('breif', 1), ('trip', 1), ('on', 2), ('the', 6), ('river', 2), ('saturday', 1), ('durring', 1), ('a', 6), ('gap', 1), ('in', 3), ('the', 6), ('weather', 1), ('K', 2), ('stripped', 1), ('off', 1), ('and', 5), ('went', 3), ('for', 3), ('a', 6), ('swim', 1), ('I', 7), ('love', 1), ('her', 1), ('so', 4), ('much', 1), ('nbsp', 3), ('Tonight', 2), ('we', 4), ('went', 3), ('out', 2), ('for', 3), ('dinner', 1), ('It', 2), ('was', 4), ('a', 6), ('lovely', 1), ('evening', 1), ('the', 6), ('first', 1), ('in', 3), ('weeks', 1), ('so', 4), ('we', 4), ('ate', 2), ('at', 1), ('the', 6), ('Bridge', 1), ('and', 5), ('sat', 1), ('outside', 1), ('next', 1), ('to', 5), ('the', 6), ('urlLink', 2), ('river', 2)]\n",
            "\n",
            "Word-Frequency Pairs for paragraph 3\n",
            "[('14', 1), ('July', 1), ('2004', 1)]\n",
            "\n",
            "Word-Frequency Pairs for paragraph 4\n",
            "[('My', 1), ('Dad', 2), ('has', 1), ('always', 1), ('wanted', 1), ('to', 4), ('go', 3), ('to', 4), ('urlLink', 1), ('America', 1), ('I', 2), ('have', 1), ('been', 1), ('several', 1), ('times', 1), ('for', 2), ('holidays', 1), ('to', 4), ('see', 1), ('friends', 1), ('or', 1), ('for', 2), ('work', 1), ('I', 2), ('d', 1), ('love', 1), ('to', 4), ('go', 3), ('with', 1), ('Dad', 2), ('and', 1), ('go', 3), ('on', 1), ('a', 2), ('long', 1), ('road', 1), ('trip', 1), ('Would', 1), ('make', 1), ('a', 2), ('better', 1), ('blog', 1), ('than', 1), ('this', 1)]\n",
            "\n",
            "Word-Frequency Pairs for paragraph 5\n",
            "[('12', 1), ('July', 1), ('2004', 1)]\n",
            "\n",
            "Word-Frequency Pairs for paragraph 6\n",
            "[('is', 1), ('a', 2), ('guy', 1), ('painting', 1), ('a', 2), ('blue', 2), ('wall', 1), ('blue', 2)]\n",
            "\n",
            "Word-Frequency Pairs for paragraph 7\n",
            "[('11', 1), ('July', 1), ('2004', 1)]\n",
            "\n",
            "Word-Frequency Pairs for paragraph 8\n",
            "[('Can', 1), ('t', 4), ('the', 10), ('urlLink', 2), ('weather', 1), ('just', 1), ('sort', 1), ('itself', 1), ('out', 4), ('I', 16), ('m', 1), ('sure', 1), ('we', 2), ('d', 2), ('already', 1), ('had', 1), ('2', 1), ('heat', 1), ('waves', 1), ('by', 2), ('this', 2), ('point', 1), ('last', 2), ('year', 1), ('I', 16), ('look', 1), ('out', 4), ('of', 2), ('my', 2), ('window', 1), ('on', 3), ('yet', 1), ('another', 1), ('grey', 1), ('day', 2), ('I', 16), ('wouldn', 1), ('t', 4), ('mind', 1), ('but', 3), ('this', 2), ('is', 1), ('the', 10), ('last', 2), ('free', 1), ('weekend', 1), ('I', 16), ('ll', 1), ('have', 1), ('in', 4), ('a', 2), ('while', 2), ('I', 16), ('want', 1), ('to', 3), ('be', 2), ('out', 4), ('enjoying', 1), ('it', 3), ('Yesterday', 1), ('we', 2), ('wrote', 1), ('some', 2), ('thank', 1), ('you', 1), ('cards', 1), ('Kirsten', 1), ('worked', 1), ('on', 3), ('the', 10), ('garden', 1), ('and', 7), ('I', 16), ('bottled', 1), ('my', 2), ('latest', 1), ('batch', 1), ('of', 2), ('urlLink', 2), ('beer', 1), ('In', 1), ('the', 10), ('evening', 1), ('Anna', 1), ('and', 7), ('Jon', 1), ('came', 1), ('around', 2), ('for', 3), ('dinner', 1), ('I', 16), ('made', 1), ('a', 2), ('lasagne', 1), ('for', 3), ('the', 10), ('first', 1), ('time', 3), ('and', 7), ('it', 3), ('was', 6), ('good', 1), ('fun', 1), ('I', 16), ('d', 2), ('not', 1), ('been', 1), ('feeling', 1), ('too', 1), ('great', 2), ('all', 1), ('day', 2), ('and', 7), ('was', 6), ('exhausted', 1), ('by', 2), ('bed', 3), ('time', 3), ('This', 1), ('morning', 1), ('K', 3), ('felt', 1), ('ill', 1), ('and', 7), ('stayed', 1), ('in', 4), ('bed', 3), ('I', 16), ('was', 6), ('stewarding', 1), ('at', 1), ('church', 2), ('and', 7), ('as', 2), ('usual', 1), ('I', 16), ('was', 6), ('put', 1), ('on', 3), ('car', 1), ('parking', 1), ('We', 1), ('I', 16), ('messed', 1), ('up', 1), ('giving', 1), ('out', 4), ('the', 10), ('buckets', 1), ('for', 3), ('the', 10), ('offering', 1), ('but', 3), ('it', 3), ('was', 6), ('ok', 1), ('After', 1), ('church', 2), ('I', 16), ('dropped', 2), ('some', 2), ('firewood', 1), ('around', 2), ('to', 3), ('Liz', 2), ('and', 7), ('dropped', 2), ('off', 1), ('K', 3), ('s', 1), ('keys', 1), ('while', 2), ('I', 16), ('was', 6), ('there', 1), ('Liz', 2), ('wasn', 1), ('t', 4), ('in', 4), ('but', 3), ('I', 16), ('saw', 1), ('paddy', 1), ('through', 1), ('the', 10), ('back', 1), ('door', 1), ('as', 2), ('I', 16), ('left', 1), ('the', 10), ('wood', 1), ('I', 16), ('don', 1), ('t', 4), ('feel', 1), ('that', 1), ('great', 2), ('myself', 1), ('Might', 1), ('be', 2), ('time', 3), ('to', 3), ('join', 1), ('K', 3), ('in', 4), ('the', 10), ('sick', 1), ('bed', 3)]\n",
            "\n",
            "Word-Frequency Pairs for paragraph 9\n",
            "[('09', 1), ('July', 1), ('2004', 1)]\n",
            "\n",
            "Word-Frequency Pairs for paragraph 10\n",
            "[('At', 1), ('last', 1), ('back', 1), ('to', 3), ('a', 3), ('normal', 1), ('company', 1), ('where', 1), ('it', 1), ('expected', 1), ('that', 1), ('you', 1), ('go', 1), ('to', 3), ('the', 1), ('pub', 1), ('at', 1), ('lunch', 1), ('on', 1), ('Fridays', 1), ('Plus', 1), ('they', 1), ('have', 1), ('free', 1), ('breakfast', 1), ('quite', 1), ('a', 3), ('spread', 1), ('too', 1), ('Good', 1), ('to', 3), ('do', 1), ('a', 3), ('bit', 1), ('of', 1), ('socialising', 1)]\n",
            "\n",
            "Word-Frequency Pairs for paragraph 11\n",
            "[('08', 1), ('July', 1), ('2004', 1)]\n",
            "\n",
            "Word-Frequency Pairs for paragraph 12\n",
            "[('Induction', 1), ('on', 5), ('Monday', 1), ('was', 5), ('in', 5), ('a', 10), ('building', 1), ('right', 1), ('opposite', 1), ('the', 14), ('urlLink', 6), ('gherkin', 1), ('If', 1), ('I', 14), ('d', 1), ('known', 1), ('I', 14), ('would', 1), ('have', 3), ('taken', 1), ('my', 5), ('camera', 1), ('I', 14), ('had', 3), ('a', 10), ('bit', 3), ('of', 6), ('time', 1), ('to', 12), ('kill', 1), ('after', 1), ('getting', 2), ('off', 1), ('the', 14), ('train', 1), ('so', 4), ('I', 14), ('went', 2), ('for', 4), ('a', 10), ('bit', 3), ('of', 6), ('a', 10), ('wander', 1), ('around', 1), ('the', 14), ('city', 1), ('So', 1), ('I', 14), ('ve', 1), ('been', 1), ('in', 5), ('the', 14), ('Cambridge', 1), ('office', 1), ('for', 4), ('3', 1), ('days', 1), ('now', 1), ('The', 1), ('job', 1), ('is', 4), ('good', 3), ('and', 6), ('the', 14), ('people', 1), ('friendly', 1), ('There', 1), ('is', 4), ('no', 1), ('tuckshop', 1), ('which', 2), ('will', 1), ('be', 1), ('good', 3), ('for', 4), ('my', 5), ('waistline', 1), ('but', 4), ('currently', 1), ('I', 14), ('m', 2), ('craving', 1), ('snacks', 1), ('My', 1), ('urlLink', 6), ('HDD', 1), ('case', 2), ('arrived', 1), ('on', 5), ('Tuesday', 3), ('I', 14), ('had', 3), ('a', 10), ('few', 1), ('problems', 1), ('at', 2), ('first', 1), ('getting', 2), ('it', 3), ('working', 1), ('with', 1), ('the', 14), ('aluminum', 1), ('case', 2), ('on', 5), ('but', 4), ('once', 1), ('I', 14), ('added', 1), ('a', 10), ('bit', 3), ('of', 6), ('card', 1), ('under', 1), ('the', 14), ('circuit', 1), ('board', 1), ('to', 12), ('act', 1), ('as', 2), ('insulation', 1), ('it', 3), ('worked', 1), ('fine', 1), ('It', 1), ('is', 4), ('really', 3), ('small', 1), ('hardly', 1), ('bigger', 1), ('than', 1), ('a', 10), ('2', 2), ('5', 1), ('drive', 3), ('and', 6), ('it', 3), ('works', 1), ('really', 3), ('well', 1), ('Also', 1), ('to', 12), ('arrive', 1), ('on', 5), ('Tuesday', 3), ('was', 5), ('the', 14), ('adoption', 1), ('certificate', 1), ('for', 4), ('my', 5), ('gibbon', 2), ('NCorp', 1), ('urlLink', 6), ('adopted', 1), ('me', 2), ('a', 10), ('gibbon', 2), ('to', 12), ('remind', 1), ('me', 2), ('of', 6), ('them', 1), ('as', 2), ('my', 5), ('leaving', 1), ('gift', 1), ('I', 14), ('m', 2), ('sure', 1), ('that', 2), ('I', 14), ('have', 3), ('a', 10), ('part', 1), ('share', 1), ('in', 5), ('a', 10), ('whole', 2), ('troop', 1), ('of', 6), ('gibbons', 1), ('but', 4), ('I', 14), ('like', 1), ('to', 12), ('think', 1), ('there', 1), ('is', 4), ('one', 1), ('that', 2), ('s', 2), ('mine', 1), ('I', 14), ('have', 3), ('called', 1), ('him', 1), ('Dobbo', 1), ('Andy', 2), ('Anita', 2), ('came', 1), ('to', 12), ('dinner', 2), ('on', 5), ('Tuesday', 3), ('night', 1), ('After', 1), ('dinner', 2), ('the', 14), ('whole', 2), ('proceedings', 1), ('kind', 1), ('of', 6), ('deteriorated', 1), ('into', 1), ('Kirsten', 1), ('and', 6), ('Anita', 2), ('playing', 1), ('the', 14), ('drums', 1), ('while', 1), ('Andy', 2), ('tried', 1), ('to', 12), ('fix', 1), ('my', 5), ('urlLink', 6), ('sparc', 1), ('station', 1), ('Much', 1), ('fun', 1), ('was', 5), ('had', 3), ('by', 1), ('all', 1), ('Yesterday', 1), ('Labhaoise', 4), ('passed', 1), ('her', 2), ('driving', 1), ('test', 1), ('so', 4), ('K', 2), ('and', 6), ('her', 2), ('when', 1), ('to', 12), ('look', 1), ('at', 2), ('cars', 1), ('together', 1), ('Pete', 3), ('Labhaoise', 4), ('K', 2), ('and', 6), ('I', 14), ('went', 2), ('to', 12), ('see', 1), ('urlLink', 6), ('Shrek', 1), ('2', 2), ('in', 5), ('the', 14), ('evening', 1), ('which', 2), ('was', 5), ('really', 3), ('good', 3), ('Labhaoise', 4), ('was', 5), ('going', 1), ('to', 12), ('drive', 3), ('us', 2), ('home', 1), ('but', 4), ('then', 1), ('the', 14), ('lights', 2), ('in', 5), ('Pete', 3), ('s', 2), ('car', 2), ('broke', 1), ('again', 1), ('so', 4), ('he', 1), ('drove', 1), ('us', 2), ('back', 2), ('to', 12), ('our', 1), ('house', 2), ('Pete', 3), ('and', 6), ('I', 14), ('urlLink', 6), ('fixed', 1), ('the', 14), ('lights', 2), ('so', 4), ('Labhaoise', 4), ('could', 1), ('drive', 3), ('the', 14), ('car', 2), ('back', 2), ('to', 12), ('their', 1), ('house', 2)]\n",
            "\n",
            "Word-Frequency Pairs for paragraph 13\n",
            "[('04', 1), ('July', 1), ('2004', 1)]\n",
            "\n",
            "Word-Frequency Pairs for paragraph 14\n",
            "[('Welcome', 1), ('back', 1), ('Well', 1), ('sort', 1), ('of', 2), ('I', 12), ('discovered', 1), ('that', 2), ('my', 4), ('old', 1), ('blog', 3), ('from', 2), ('2000', 1), ('was', 5), ('still', 1), ('on', 1), ('the', 12), ('blogger', 1), ('com', 1), ('server', 1), ('I', 12), ('read', 1), ('the', 12), ('thirteen', 1), ('posts', 1), ('and', 2), ('they', 1), ('were', 1), ('really', 3), ('dull', 1), ('so', 2), ('I', 12), ('deleted', 1), ('the', 12), ('blog', 3), ('It', 2), ('was', 5), ('from', 2), ('the', 12), ('days', 1), ('when', 2), ('I', 12), ('was', 5), ('living', 1), ('with', 1), ('my', 4), ('Dad', 1), ('after', 1), ('uni', 1), ('and', 2), ('working', 1), ('for', 2), ('Pilks', 1), ('It', 2), ('was', 5), ('a', 3), ('month', 1), ('or', 1), ('two', 1), ('before', 1), ('I', 12), ('went', 1), ('to', 5), ('work', 1), ('in', 3), ('the', 12), ('USA', 1), ('which', 1), ('would', 1), ('have', 1), ('made', 1), ('a', 3), ('much', 2), ('more', 1), ('interesting', 1), ('blog', 3), ('had', 1), ('I', 12), ('done', 1), ('it', 3), ('Tomorrow', 1), ('I', 12), ('m', 3), ('off', 2), ('to', 5), ('London', 1), ('for', 2), ('my', 4), ('induction', 1), ('meeting', 1), ('at', 1), ('my', 4), ('new', 3), ('company', 1), ('I', 12), ('m', 3), ('so', 2), ('relieved', 1), ('to', 5), ('leave', 1), ('NCorp', 1), ('that', 2), ('I', 12), ('haven', 2), ('t', 2), ('really', 3), ('given', 1), ('the', 12), ('new', 3), ('place', 2), ('much', 2), ('thought', 1), ('I', 12), ('m', 3), ('sure', 1), ('it', 3), ('will', 2), ('be', 1), ('great', 1), ('I', 12), ('was', 5), ('really', 3), ('into', 1), ('the', 12), ('new', 3), ('place', 2), ('3', 1), ('months', 1), ('ago', 1), ('when', 2), ('I', 12), ('got', 1), ('the', 12), ('job', 1), ('but', 1), ('urlLink', 1), ('the', 12), ('pangalactic', 1), ('bellwether', 1), ('in', 3), ('miserable', 1), ('notice', 1), ('periods', 1), ('has', 1), ('kind', 1), ('of', 2), ('taken', 1), ('the', 12), ('sparkle', 1), ('off', 2), ('it', 3), ('a', 3), ('bit', 1), ('At', 1), ('least', 1), ('the', 12), ('train', 1), ('ride', 1), ('down', 1), ('will', 2), ('give', 1), ('me', 1), ('time', 1), ('to', 5), ('write', 1), ('to', 5), ('manda', 1), ('haven', 2), ('t', 2), ('been', 1), ('in', 3), ('touch', 1), ('since', 1), ('the', 12), ('wedding', 1), ('bad', 1), ('pen', 1), ('pal', 1)]\n",
            "\n"
          ],
          "name": "stdout"
        }
      ]
    },
    {
      "cell_type": "code",
      "metadata": {
        "id": "v80Vlw0ji9GZ",
        "colab_type": "code",
        "outputId": "e0f16534-6bbb-4786-cd2d-6b4154f0750b",
        "colab": {
          "base_uri": "https://localhost:8080/",
          "height": 146
        }
      },
      "source": [
        "# Question 3: Stopwords and Non-Stopwords\n",
        "\n",
        "#Extracting Stop Words from Word Tokens\n",
        "stop_words = set(stopwords.words('english')) \n",
        "stop_words_list = []\n",
        "for w in word_tokens: \n",
        "    if w in stop_words: \n",
        "        stop_words_list.append(w) \n",
        "print(\"The stop word are:\")      \n",
        "print(stop_words_list)\n",
        "print(\"\\n\")\n",
        "#Extracting Non-Stop Words from Word Tokens\n",
        "non_stop_words_list = []\n",
        "for w in word_tokens: \n",
        "    if w not in stop_words: \n",
        "        non_stop_words_list.append(w)   \n",
        "print(\"The non-stop word are:\")    \n",
        "print(non_stop_words_list)"
      ],
      "execution_count": 113,
      "outputs": [
        {
          "output_type": "stream",
          "text": [
            "The stop word are:\n",
            "['to', 't', 'again', 'into', 'was', 'was', 'me', 'but', 'not', 'about', 'up', 'his', 'and', 'it', 'me', 'about', 'that', 'is', 'm', 'there', 'are', 'that', 'we', 'are', 'just', 'by', 'in', 'so', 'to', 'to', 'them', 'out', 'now', 'before', 'they', 'are', 'a', 'the', 'they', 'both', 'so', 'should', 'was', 'but', 'that', 'and', 'had', 'to', 'on', 'with', 'other', 'as', 'a', 'we', 'and', 'for', 'a', 'very', 'on', 'the', 'a', 'in', 'the', 'off', 'and', 'for', 'a', 'her', 'so', 'we', 'out', 'for', 'was', 'a', 'the', 'in', 'so', 'we', 'at', 'the', 'and', 'to', 'the', 'has', 'to', 'to', 'have', 'been', 'for', 'to', 'or', 'for', 'd', 'to', 'with', 'and', 'on', 'a', 'a', 'than', 'this', 'is', 'a', 'a', 't', 'the', 'just', 'itself', 'out', 'm', 'we', 'd', 'had', 'by', 'this', 'out', 'of', 'my', 'on', 'wouldn', 't', 'but', 'this', 'is', 'the', 'll', 'have', 'in', 'a', 'while', 'to', 'be', 'out', 'it', 'we', 'some', 'you', 'on', 'the', 'and', 'my', 'of', 'the', 'and', 'for', 'a', 'for', 'the', 'and', 'it', 'was', 'd', 'not', 'been', 'too', 'all', 'and', 'was', 'by', 'and', 'in', 'was', 'at', 'and', 'as', 'was', 'on', 'up', 'out', 'the', 'for', 'the', 'but', 'it', 'was', 'some', 'to', 'and', 'off', 's', 'while', 'was', 'there', 'wasn', 't', 'in', 'but', 'through', 'the', 'as', 'the', 'don', 't', 'that', 'myself', 'be', 'to', 'in', 'the', 'to', 'a', 'where', 'it', 'that', 'you', 'to', 'the', 'at', 'on', 'they', 'have', 'a', 'too', 'to', 'do', 'a', 'of', 'on', 'was', 'in', 'a', 'the', 'd', 'have', 'my', 'had', 'a', 'of', 'to', 'after', 'off', 'the', 'so', 'for', 'a', 'of', 'a', 'the', 've', 'been', 'in', 'the', 'for', 'now', 'is', 'and', 'the', 'is', 'no', 'which', 'will', 'be', 'for', 'my', 'but', 'm', 'on', 'had', 'a', 'few', 'at', 'it', 'with', 'the', 'on', 'but', 'once', 'a', 'of', 'under', 'the', 'to', 'as', 'it', 'is', 'than', 'a', 'and', 'it', 'to', 'on', 'was', 'the', 'for', 'my', 'me', 'a', 'to', 'me', 'of', 'them', 'as', 'my', 'm', 'that', 'have', 'a', 'in', 'a', 'of', 'but', 'to', 'there', 'is', 'that', 's', 'have', 'him', 'to', 'on', 'the', 'of', 'into', 'and', 'the', 'while', 'to', 'my', 'was', 'had', 'by', 'all', 'her', 'so', 'and', 'her', 'when', 'to', 'at', 'and', 'to', 'in', 'the', 'which', 'was', 'was', 'to', 'but', 'then', 'the', 'in', 's', 'again', 'so', 'he', 'to', 'our', 'and', 'the', 'so', 'the', 'to', 'their', 'of', 'that', 'my', 'from', 'was', 'on', 'the', 'the', 'and', 'they', 'were', 'so', 'the', 'was', 'from', 'the', 'when', 'was', 'with', 'my', 'after', 'and', 'for', 'was', 'a', 'or', 'before', 'to', 'in', 'the', 'which', 'have', 'a', 'more', 'had', 'it', 'm', 'off', 'to', 'for', 'my', 'at', 'my', 'm', 'so', 'to', 'that', 'haven', 't', 'the', 'm', 'it', 'will', 'be', 'was', 'into', 'the', 'when', 'the', 'but', 'the', 'in', 'has', 'of', 'the', 'off', 'it', 'a', 'the', 'down', 'will', 'me', 'to', 'to', 'haven', 't', 'been', 'in', 'the']\n",
            "\n",
            "\n",
            "The non-stop word are:\n",
            "['20', 'July', '2004', 'About', 'go', 'bed', 'late', 'got', 'sucked', 'another', 'late', 'night', 'film', 'Tonight', 'urlLink', 'Maybe', 'Baby', 'It', 'really', 'good', 'made', 'think', 'babies', 'The', 'guy', 'screws', 'marriage', 'made', 'think', 'making', 'sure', 'everyday', 'mine', 'tip', 'top', 'If', 'I', 'honest', 'areas', 'getting', 'I', 'need', 'resolve', 'sort', 'problem', 'In', 'film', 'keep', 'diaries', 'I', 'thought', 'I', 'blog', 'tonight', 'nbsp', 'Weekend', 'hectic', 'great', 'fun', 'Not', 'long', 'ago', 'k', 'I', 'work', 'spending', 'time', 'people', 'couple', 'This', 'weekend', 'never', 'ate', 'alone', 'except', 'breakfast', 'nbsp', 'K', 'P', 'I', 'went', 'breif', 'trip', 'river', 'saturday', 'durring', 'gap', 'weather', 'K', 'stripped', 'went', 'swim', 'I', 'love', 'much', 'nbsp', 'Tonight', 'went', 'dinner', 'It', 'lovely', 'evening', 'first', 'weeks', 'ate', 'Bridge', 'sat', 'outside', 'next', 'urlLink', 'river', '14', 'July', '2004', 'My', 'Dad', 'always', 'wanted', 'go', 'urlLink', 'America', 'I', 'several', 'times', 'holidays', 'see', 'friends', 'work', 'I', 'love', 'go', 'Dad', 'go', 'long', 'road', 'trip', 'Would', 'make', 'better', 'blog', '12', 'July', '2004', 'guy', 'painting', 'blue', 'wall', 'blue', '11', 'July', '2004', 'Can', 'urlLink', 'weather', 'sort', 'I', 'sure', 'already', '2', 'heat', 'waves', 'point', 'last', 'year', 'I', 'look', 'window', 'yet', 'another', 'grey', 'day', 'I', 'mind', 'last', 'free', 'weekend', 'I', 'I', 'want', 'enjoying', 'Yesterday', 'wrote', 'thank', 'cards', 'Kirsten', 'worked', 'garden', 'I', 'bottled', 'latest', 'batch', 'urlLink', 'beer', 'In', 'evening', 'Anna', 'Jon', 'came', 'around', 'dinner', 'I', 'made', 'lasagne', 'first', 'time', 'good', 'fun', 'I', 'feeling', 'great', 'day', 'exhausted', 'bed', 'time', 'This', 'morning', 'K', 'felt', 'ill', 'stayed', 'bed', 'I', 'stewarding', 'church', 'usual', 'I', 'put', 'car', 'parking', 'We', 'I', 'messed', 'giving', 'buckets', 'offering', 'ok', 'After', 'church', 'I', 'dropped', 'firewood', 'around', 'Liz', 'dropped', 'K', 'keys', 'I', 'Liz', 'I', 'saw', 'paddy', 'back', 'door', 'I', 'left', 'wood', 'I', 'feel', 'great', 'Might', 'time', 'join', 'K', 'sick', 'bed', '09', 'July', '2004', 'At', 'last', 'back', 'normal', 'company', 'expected', 'go', 'pub', 'lunch', 'Fridays', 'Plus', 'free', 'breakfast', 'quite', 'spread', 'Good', 'bit', 'socialising', '08', 'July', '2004', 'Induction', 'Monday', 'building', 'right', 'opposite', 'urlLink', 'gherkin', 'If', 'I', 'known', 'I', 'would', 'taken', 'camera', 'I', 'bit', 'time', 'kill', 'getting', 'train', 'I', 'went', 'bit', 'wander', 'around', 'city', 'So', 'I', 'Cambridge', 'office', '3', 'days', 'The', 'job', 'good', 'people', 'friendly', 'There', 'tuckshop', 'good', 'waistline', 'currently', 'I', 'craving', 'snacks', 'My', 'urlLink', 'HDD', 'case', 'arrived', 'Tuesday', 'I', 'problems', 'first', 'getting', 'working', 'aluminum', 'case', 'I', 'added', 'bit', 'card', 'circuit', 'board', 'act', 'insulation', 'worked', 'fine', 'It', 'really', 'small', 'hardly', 'bigger', '2', '5', 'drive', 'works', 'really', 'well', 'Also', 'arrive', 'Tuesday', 'adoption', 'certificate', 'gibbon', 'NCorp', 'urlLink', 'adopted', 'gibbon', 'remind', 'leaving', 'gift', 'I', 'sure', 'I', 'part', 'share', 'whole', 'troop', 'gibbons', 'I', 'like', 'think', 'one', 'mine', 'I', 'called', 'Dobbo', 'Andy', 'Anita', 'came', 'dinner', 'Tuesday', 'night', 'After', 'dinner', 'whole', 'proceedings', 'kind', 'deteriorated', 'Kirsten', 'Anita', 'playing', 'drums', 'Andy', 'tried', 'fix', 'urlLink', 'sparc', 'station', 'Much', 'fun', 'Yesterday', 'Labhaoise', 'passed', 'driving', 'test', 'K', 'look', 'cars', 'together', 'Pete', 'Labhaoise', 'K', 'I', 'went', 'see', 'urlLink', 'Shrek', '2', 'evening', 'really', 'good', 'Labhaoise', 'going', 'drive', 'us', 'home', 'lights', 'Pete', 'car', 'broke', 'drove', 'us', 'back', 'house', 'Pete', 'I', 'urlLink', 'fixed', 'lights', 'Labhaoise', 'could', 'drive', 'car', 'back', 'house', '04', 'July', '2004', 'Welcome', 'back', 'Well', 'sort', 'I', 'discovered', 'old', 'blog', '2000', 'still', 'blogger', 'com', 'server', 'I', 'read', 'thirteen', 'posts', 'really', 'dull', 'I', 'deleted', 'blog', 'It', 'days', 'I', 'living', 'Dad', 'uni', 'working', 'Pilks', 'It', 'month', 'two', 'I', 'went', 'work', 'USA', 'would', 'made', 'much', 'interesting', 'blog', 'I', 'done', 'Tomorrow', 'I', 'London', 'induction', 'meeting', 'new', 'company', 'I', 'relieved', 'leave', 'NCorp', 'I', 'really', 'given', 'new', 'place', 'much', 'thought', 'I', 'sure', 'great', 'I', 'really', 'new', 'place', '3', 'months', 'ago', 'I', 'got', 'job', 'urlLink', 'pangalactic', 'bellwether', 'miserable', 'notice', 'periods', 'kind', 'taken', 'sparkle', 'bit', 'At', 'least', 'train', 'ride', 'give', 'time', 'write', 'manda', 'touch', 'since', 'wedding', 'bad', 'pen', 'pal']\n"
          ],
          "name": "stdout"
        }
      ]
    },
    {
      "cell_type": "code",
      "metadata": {
        "id": "nnmudcazmthq",
        "colab_type": "code",
        "outputId": "192d1aa3-89fc-463b-9d62-9d76eda9c9ef",
        "colab": {
          "base_uri": "https://localhost:8080/",
          "height": 146
        }
      },
      "source": [
        "# Question 4: Lexicon Normalization\n",
        "\n",
        "#Stemming Words in Word Tokens\n",
        "ps = PorterStemmer() \n",
        "stemmed_word_tokens = []\n",
        "for w in word_tokens:\n",
        "  stemmed_word_tokens.append(ps.stem(w))\n",
        "print(\"The stemmed word tokens are:\")\n",
        "print(stemmed_word_tokens)\n",
        "print(\"\\n\")\n",
        "#Lemmatizing Words in Word Tokens\n",
        "wnl = WordNetLemmatizer()\n",
        "lemmatized_word_tokens = []\n",
        "for w in word_tokens:\n",
        "  lemmatized_word_tokens.append(wnl.lemmatize(w))\n",
        "print(\"The lemmatized word tokens are:\")\n",
        "print(lemmatized_word_tokens)\n"
      ],
      "execution_count": 115,
      "outputs": [
        {
          "output_type": "stream",
          "text": [
            "The stemmed word tokens are:\n",
            "['20', 'juli', '2004', 'about', 'to', 'go', 't', 'bed', 'late', 'again', 'got', 'suck', 'into', 'anoth', 'late', 'night', 'film', 'tonight', 'wa', 'urllink', 'mayb', 'babi', 'It', 'wa', 'realli', 'good', 'made', 'me', 'think', 'but', 'not', 'about', 'babi', 'the', 'guy', 'screw', 'up', 'hi', 'marriag', 'and', 'it', 'made', 'me', 'think', 'about', 'make', 'sure', 'everyday', 'that', 'mine', 'is', 'tip', 'top', 'If', 'I', 'm', 'honest', 'there', 'are', 'area', 'that', 'we', 'are', 'just', 'get', 'by', 'in', 'so', 'I', 'need', 'to', 'resolv', 'to', 'sort', 'them', 'out', 'now', 'befor', 'they', 'are', 'a', 'problem', 'In', 'the', 'film', 'they', 'both', 'keep', 'diari', 'so', 'I', 'thought', 'I', 'should', 'blog', 'tonight', 'nbsp', 'weekend', 'wa', 'hectic', 'but', 'great', 'fun', 'not', 'that', 'long', 'ago', 'k', 'and', 'I', 'had', 'to', 'work', 'on', 'spend', 'time', 'with', 'other', 'peopl', 'as', 'a', 'coupl', 'thi', 'weekend', 'we', 'never', 'ate', 'alon', 'except', 'breakfast', 'nbsp', 'K', 'P', 'and', 'I', 'went', 'for', 'a', 'veri', 'breif', 'trip', 'on', 'the', 'river', 'saturday', 'dur', 'a', 'gap', 'in', 'the', 'weather', 'K', 'strip', 'off', 'and', 'went', 'for', 'a', 'swim', 'I', 'love', 'her', 'so', 'much', 'nbsp', 'tonight', 'we', 'went', 'out', 'for', 'dinner', 'It', 'wa', 'a', 'love', 'even', 'the', 'first', 'in', 'week', 'so', 'we', 'ate', 'at', 'the', 'bridg', 'and', 'sat', 'outsid', 'next', 'to', 'the', 'urllink', 'river', '14', 'juli', '2004', 'My', 'dad', 'ha', 'alway', 'want', 'to', 'go', 'to', 'urllink', 'america', 'I', 'have', 'been', 'sever', 'time', 'for', 'holiday', 'to', 'see', 'friend', 'or', 'for', 'work', 'I', 'd', 'love', 'to', 'go', 'with', 'dad', 'and', 'go', 'on', 'a', 'long', 'road', 'trip', 'would', 'make', 'a', 'better', 'blog', 'than', 'thi', '12', 'juli', '2004', 'is', 'a', 'guy', 'paint', 'a', 'blue', 'wall', 'blue', '11', 'juli', '2004', 'can', 't', 'the', 'urllink', 'weather', 'just', 'sort', 'itself', 'out', 'I', 'm', 'sure', 'we', 'd', 'alreadi', 'had', '2', 'heat', 'wave', 'by', 'thi', 'point', 'last', 'year', 'I', 'look', 'out', 'of', 'my', 'window', 'on', 'yet', 'anoth', 'grey', 'day', 'I', 'wouldn', 't', 'mind', 'but', 'thi', 'is', 'the', 'last', 'free', 'weekend', 'I', 'll', 'have', 'in', 'a', 'while', 'I', 'want', 'to', 'be', 'out', 'enjoy', 'it', 'yesterday', 'we', 'wrote', 'some', 'thank', 'you', 'card', 'kirsten', 'work', 'on', 'the', 'garden', 'and', 'I', 'bottl', 'my', 'latest', 'batch', 'of', 'urllink', 'beer', 'In', 'the', 'even', 'anna', 'and', 'jon', 'came', 'around', 'for', 'dinner', 'I', 'made', 'a', 'lasagn', 'for', 'the', 'first', 'time', 'and', 'it', 'wa', 'good', 'fun', 'I', 'd', 'not', 'been', 'feel', 'too', 'great', 'all', 'day', 'and', 'wa', 'exhaust', 'by', 'bed', 'time', 'thi', 'morn', 'K', 'felt', 'ill', 'and', 'stay', 'in', 'bed', 'I', 'wa', 'steward', 'at', 'church', 'and', 'as', 'usual', 'I', 'wa', 'put', 'on', 'car', 'park', 'We', 'I', 'mess', 'up', 'give', 'out', 'the', 'bucket', 'for', 'the', 'offer', 'but', 'it', 'wa', 'ok', 'after', 'church', 'I', 'drop', 'some', 'firewood', 'around', 'to', 'liz', 'and', 'drop', 'off', 'K', 's', 'key', 'while', 'I', 'wa', 'there', 'liz', 'wasn', 't', 'in', 'but', 'I', 'saw', 'paddi', 'through', 'the', 'back', 'door', 'as', 'I', 'left', 'the', 'wood', 'I', 'don', 't', 'feel', 'that', 'great', 'myself', 'might', 'be', 'time', 'to', 'join', 'K', 'in', 'the', 'sick', 'bed', '09', 'juli', '2004', 'At', 'last', 'back', 'to', 'a', 'normal', 'compani', 'where', 'it', 'expect', 'that', 'you', 'go', 'to', 'the', 'pub', 'at', 'lunch', 'on', 'friday', 'plu', 'they', 'have', 'free', 'breakfast', 'quit', 'a', 'spread', 'too', 'good', 'to', 'do', 'a', 'bit', 'of', 'socialis', '08', 'juli', '2004', 'induct', 'on', 'monday', 'wa', 'in', 'a', 'build', 'right', 'opposit', 'the', 'urllink', 'gherkin', 'If', 'I', 'd', 'known', 'I', 'would', 'have', 'taken', 'my', 'camera', 'I', 'had', 'a', 'bit', 'of', 'time', 'to', 'kill', 'after', 'get', 'off', 'the', 'train', 'so', 'I', 'went', 'for', 'a', 'bit', 'of', 'a', 'wander', 'around', 'the', 'citi', 'So', 'I', 've', 'been', 'in', 'the', 'cambridg', 'offic', 'for', '3', 'day', 'now', 'the', 'job', 'is', 'good', 'and', 'the', 'peopl', 'friendli', 'there', 'is', 'no', 'tuckshop', 'which', 'will', 'be', 'good', 'for', 'my', 'waistlin', 'but', 'current', 'I', 'm', 'crave', 'snack', 'My', 'urllink', 'hdd', 'case', 'arriv', 'on', 'tuesday', 'I', 'had', 'a', 'few', 'problem', 'at', 'first', 'get', 'it', 'work', 'with', 'the', 'aluminum', 'case', 'on', 'but', 'onc', 'I', 'ad', 'a', 'bit', 'of', 'card', 'under', 'the', 'circuit', 'board', 'to', 'act', 'as', 'insul', 'it', 'work', 'fine', 'It', 'is', 'realli', 'small', 'hardli', 'bigger', 'than', 'a', '2', '5', 'drive', 'and', 'it', 'work', 'realli', 'well', 'also', 'to', 'arriv', 'on', 'tuesday', 'wa', 'the', 'adopt', 'certif', 'for', 'my', 'gibbon', 'ncorp', 'urllink', 'adopt', 'me', 'a', 'gibbon', 'to', 'remind', 'me', 'of', 'them', 'as', 'my', 'leav', 'gift', 'I', 'm', 'sure', 'that', 'I', 'have', 'a', 'part', 'share', 'in', 'a', 'whole', 'troop', 'of', 'gibbon', 'but', 'I', 'like', 'to', 'think', 'there', 'is', 'one', 'that', 's', 'mine', 'I', 'have', 'call', 'him', 'dobbo', 'andi', 'anita', 'came', 'to', 'dinner', 'on', 'tuesday', 'night', 'after', 'dinner', 'the', 'whole', 'proceed', 'kind', 'of', 'deterior', 'into', 'kirsten', 'and', 'anita', 'play', 'the', 'drum', 'while', 'andi', 'tri', 'to', 'fix', 'my', 'urllink', 'sparc', 'station', 'much', 'fun', 'wa', 'had', 'by', 'all', 'yesterday', 'labhaois', 'pass', 'her', 'drive', 'test', 'so', 'K', 'and', 'her', 'when', 'to', 'look', 'at', 'car', 'togeth', 'pete', 'labhaois', 'K', 'and', 'I', 'went', 'to', 'see', 'urllink', 'shrek', '2', 'in', 'the', 'even', 'which', 'wa', 'realli', 'good', 'labhaois', 'wa', 'go', 'to', 'drive', 'us', 'home', 'but', 'then', 'the', 'light', 'in', 'pete', 's', 'car', 'broke', 'again', 'so', 'he', 'drove', 'us', 'back', 'to', 'our', 'hous', 'pete', 'and', 'I', 'urllink', 'fix', 'the', 'light', 'so', 'labhaois', 'could', 'drive', 'the', 'car', 'back', 'to', 'their', 'hous', '04', 'juli', '2004', 'welcom', 'back', 'well', 'sort', 'of', 'I', 'discov', 'that', 'my', 'old', 'blog', 'from', '2000', 'wa', 'still', 'on', 'the', 'blogger', 'com', 'server', 'I', 'read', 'the', 'thirteen', 'post', 'and', 'they', 'were', 'realli', 'dull', 'so', 'I', 'delet', 'the', 'blog', 'It', 'wa', 'from', 'the', 'day', 'when', 'I', 'wa', 'live', 'with', 'my', 'dad', 'after', 'uni', 'and', 'work', 'for', 'pilk', 'It', 'wa', 'a', 'month', 'or', 'two', 'befor', 'I', 'went', 'to', 'work', 'in', 'the', 'usa', 'which', 'would', 'have', 'made', 'a', 'much', 'more', 'interest', 'blog', 'had', 'I', 'done', 'it', 'tomorrow', 'I', 'm', 'off', 'to', 'london', 'for', 'my', 'induct', 'meet', 'at', 'my', 'new', 'compani', 'I', 'm', 'so', 'reliev', 'to', 'leav', 'ncorp', 'that', 'I', 'haven', 't', 'realli', 'given', 'the', 'new', 'place', 'much', 'thought', 'I', 'm', 'sure', 'it', 'will', 'be', 'great', 'I', 'wa', 'realli', 'into', 'the', 'new', 'place', '3', 'month', 'ago', 'when', 'I', 'got', 'the', 'job', 'but', 'urllink', 'the', 'pangalact', 'bellweth', 'in', 'miser', 'notic', 'period', 'ha', 'kind', 'of', 'taken', 'the', 'sparkl', 'off', 'it', 'a', 'bit', 'At', 'least', 'the', 'train', 'ride', 'down', 'will', 'give', 'me', 'time', 'to', 'write', 'to', 'manda', 'haven', 't', 'been', 'in', 'touch', 'sinc', 'the', 'wed', 'bad', 'pen', 'pal']\n",
            "\n",
            "\n",
            "The lemmatized word tokens are:\n",
            "['20', 'July', '2004', 'About', 'to', 'go', 't', 'bed', 'late', 'again', 'got', 'sucked', 'into', 'another', 'late', 'night', 'film', 'Tonight', 'wa', 'urlLink', 'Maybe', 'Baby', 'It', 'wa', 'really', 'good', 'made', 'me', 'think', 'but', 'not', 'about', 'baby', 'The', 'guy', 'screw', 'up', 'his', 'marriage', 'and', 'it', 'made', 'me', 'think', 'about', 'making', 'sure', 'everyday', 'that', 'mine', 'is', 'tip', 'top', 'If', 'I', 'm', 'honest', 'there', 'are', 'area', 'that', 'we', 'are', 'just', 'getting', 'by', 'in', 'so', 'I', 'need', 'to', 'resolve', 'to', 'sort', 'them', 'out', 'now', 'before', 'they', 'are', 'a', 'problem', 'In', 'the', 'film', 'they', 'both', 'keep', 'diary', 'so', 'I', 'thought', 'I', 'should', 'blog', 'tonight', 'nbsp', 'Weekend', 'wa', 'hectic', 'but', 'great', 'fun', 'Not', 'that', 'long', 'ago', 'k', 'and', 'I', 'had', 'to', 'work', 'on', 'spending', 'time', 'with', 'other', 'people', 'a', 'a', 'couple', 'This', 'weekend', 'we', 'never', 'ate', 'alone', 'except', 'breakfast', 'nbsp', 'K', 'P', 'and', 'I', 'went', 'for', 'a', 'very', 'breif', 'trip', 'on', 'the', 'river', 'saturday', 'durring', 'a', 'gap', 'in', 'the', 'weather', 'K', 'stripped', 'off', 'and', 'went', 'for', 'a', 'swim', 'I', 'love', 'her', 'so', 'much', 'nbsp', 'Tonight', 'we', 'went', 'out', 'for', 'dinner', 'It', 'wa', 'a', 'lovely', 'evening', 'the', 'first', 'in', 'week', 'so', 'we', 'ate', 'at', 'the', 'Bridge', 'and', 'sat', 'outside', 'next', 'to', 'the', 'urlLink', 'river', '14', 'July', '2004', 'My', 'Dad', 'ha', 'always', 'wanted', 'to', 'go', 'to', 'urlLink', 'America', 'I', 'have', 'been', 'several', 'time', 'for', 'holiday', 'to', 'see', 'friend', 'or', 'for', 'work', 'I', 'd', 'love', 'to', 'go', 'with', 'Dad', 'and', 'go', 'on', 'a', 'long', 'road', 'trip', 'Would', 'make', 'a', 'better', 'blog', 'than', 'this', '12', 'July', '2004', 'is', 'a', 'guy', 'painting', 'a', 'blue', 'wall', 'blue', '11', 'July', '2004', 'Can', 't', 'the', 'urlLink', 'weather', 'just', 'sort', 'itself', 'out', 'I', 'm', 'sure', 'we', 'd', 'already', 'had', '2', 'heat', 'wave', 'by', 'this', 'point', 'last', 'year', 'I', 'look', 'out', 'of', 'my', 'window', 'on', 'yet', 'another', 'grey', 'day', 'I', 'wouldn', 't', 'mind', 'but', 'this', 'is', 'the', 'last', 'free', 'weekend', 'I', 'll', 'have', 'in', 'a', 'while', 'I', 'want', 'to', 'be', 'out', 'enjoying', 'it', 'Yesterday', 'we', 'wrote', 'some', 'thank', 'you', 'card', 'Kirsten', 'worked', 'on', 'the', 'garden', 'and', 'I', 'bottled', 'my', 'latest', 'batch', 'of', 'urlLink', 'beer', 'In', 'the', 'evening', 'Anna', 'and', 'Jon', 'came', 'around', 'for', 'dinner', 'I', 'made', 'a', 'lasagne', 'for', 'the', 'first', 'time', 'and', 'it', 'wa', 'good', 'fun', 'I', 'd', 'not', 'been', 'feeling', 'too', 'great', 'all', 'day', 'and', 'wa', 'exhausted', 'by', 'bed', 'time', 'This', 'morning', 'K', 'felt', 'ill', 'and', 'stayed', 'in', 'bed', 'I', 'wa', 'stewarding', 'at', 'church', 'and', 'a', 'usual', 'I', 'wa', 'put', 'on', 'car', 'parking', 'We', 'I', 'messed', 'up', 'giving', 'out', 'the', 'bucket', 'for', 'the', 'offering', 'but', 'it', 'wa', 'ok', 'After', 'church', 'I', 'dropped', 'some', 'firewood', 'around', 'to', 'Liz', 'and', 'dropped', 'off', 'K', 's', 'key', 'while', 'I', 'wa', 'there', 'Liz', 'wasn', 't', 'in', 'but', 'I', 'saw', 'paddy', 'through', 'the', 'back', 'door', 'a', 'I', 'left', 'the', 'wood', 'I', 'don', 't', 'feel', 'that', 'great', 'myself', 'Might', 'be', 'time', 'to', 'join', 'K', 'in', 'the', 'sick', 'bed', '09', 'July', '2004', 'At', 'last', 'back', 'to', 'a', 'normal', 'company', 'where', 'it', 'expected', 'that', 'you', 'go', 'to', 'the', 'pub', 'at', 'lunch', 'on', 'Fridays', 'Plus', 'they', 'have', 'free', 'breakfast', 'quite', 'a', 'spread', 'too', 'Good', 'to', 'do', 'a', 'bit', 'of', 'socialising', '08', 'July', '2004', 'Induction', 'on', 'Monday', 'wa', 'in', 'a', 'building', 'right', 'opposite', 'the', 'urlLink', 'gherkin', 'If', 'I', 'd', 'known', 'I', 'would', 'have', 'taken', 'my', 'camera', 'I', 'had', 'a', 'bit', 'of', 'time', 'to', 'kill', 'after', 'getting', 'off', 'the', 'train', 'so', 'I', 'went', 'for', 'a', 'bit', 'of', 'a', 'wander', 'around', 'the', 'city', 'So', 'I', 've', 'been', 'in', 'the', 'Cambridge', 'office', 'for', '3', 'day', 'now', 'The', 'job', 'is', 'good', 'and', 'the', 'people', 'friendly', 'There', 'is', 'no', 'tuckshop', 'which', 'will', 'be', 'good', 'for', 'my', 'waistline', 'but', 'currently', 'I', 'm', 'craving', 'snack', 'My', 'urlLink', 'HDD', 'case', 'arrived', 'on', 'Tuesday', 'I', 'had', 'a', 'few', 'problem', 'at', 'first', 'getting', 'it', 'working', 'with', 'the', 'aluminum', 'case', 'on', 'but', 'once', 'I', 'added', 'a', 'bit', 'of', 'card', 'under', 'the', 'circuit', 'board', 'to', 'act', 'a', 'insulation', 'it', 'worked', 'fine', 'It', 'is', 'really', 'small', 'hardly', 'bigger', 'than', 'a', '2', '5', 'drive', 'and', 'it', 'work', 'really', 'well', 'Also', 'to', 'arrive', 'on', 'Tuesday', 'wa', 'the', 'adoption', 'certificate', 'for', 'my', 'gibbon', 'NCorp', 'urlLink', 'adopted', 'me', 'a', 'gibbon', 'to', 'remind', 'me', 'of', 'them', 'a', 'my', 'leaving', 'gift', 'I', 'm', 'sure', 'that', 'I', 'have', 'a', 'part', 'share', 'in', 'a', 'whole', 'troop', 'of', 'gibbon', 'but', 'I', 'like', 'to', 'think', 'there', 'is', 'one', 'that', 's', 'mine', 'I', 'have', 'called', 'him', 'Dobbo', 'Andy', 'Anita', 'came', 'to', 'dinner', 'on', 'Tuesday', 'night', 'After', 'dinner', 'the', 'whole', 'proceeding', 'kind', 'of', 'deteriorated', 'into', 'Kirsten', 'and', 'Anita', 'playing', 'the', 'drum', 'while', 'Andy', 'tried', 'to', 'fix', 'my', 'urlLink', 'sparc', 'station', 'Much', 'fun', 'wa', 'had', 'by', 'all', 'Yesterday', 'Labhaoise', 'passed', 'her', 'driving', 'test', 'so', 'K', 'and', 'her', 'when', 'to', 'look', 'at', 'car', 'together', 'Pete', 'Labhaoise', 'K', 'and', 'I', 'went', 'to', 'see', 'urlLink', 'Shrek', '2', 'in', 'the', 'evening', 'which', 'wa', 'really', 'good', 'Labhaoise', 'wa', 'going', 'to', 'drive', 'u', 'home', 'but', 'then', 'the', 'light', 'in', 'Pete', 's', 'car', 'broke', 'again', 'so', 'he', 'drove', 'u', 'back', 'to', 'our', 'house', 'Pete', 'and', 'I', 'urlLink', 'fixed', 'the', 'light', 'so', 'Labhaoise', 'could', 'drive', 'the', 'car', 'back', 'to', 'their', 'house', '04', 'July', '2004', 'Welcome', 'back', 'Well', 'sort', 'of', 'I', 'discovered', 'that', 'my', 'old', 'blog', 'from', '2000', 'wa', 'still', 'on', 'the', 'blogger', 'com', 'server', 'I', 'read', 'the', 'thirteen', 'post', 'and', 'they', 'were', 'really', 'dull', 'so', 'I', 'deleted', 'the', 'blog', 'It', 'wa', 'from', 'the', 'day', 'when', 'I', 'wa', 'living', 'with', 'my', 'Dad', 'after', 'uni', 'and', 'working', 'for', 'Pilks', 'It', 'wa', 'a', 'month', 'or', 'two', 'before', 'I', 'went', 'to', 'work', 'in', 'the', 'USA', 'which', 'would', 'have', 'made', 'a', 'much', 'more', 'interesting', 'blog', 'had', 'I', 'done', 'it', 'Tomorrow', 'I', 'm', 'off', 'to', 'London', 'for', 'my', 'induction', 'meeting', 'at', 'my', 'new', 'company', 'I', 'm', 'so', 'relieved', 'to', 'leave', 'NCorp', 'that', 'I', 'haven', 't', 'really', 'given', 'the', 'new', 'place', 'much', 'thought', 'I', 'm', 'sure', 'it', 'will', 'be', 'great', 'I', 'wa', 'really', 'into', 'the', 'new', 'place', '3', 'month', 'ago', 'when', 'I', 'got', 'the', 'job', 'but', 'urlLink', 'the', 'pangalactic', 'bellwether', 'in', 'miserable', 'notice', 'period', 'ha', 'kind', 'of', 'taken', 'the', 'sparkle', 'off', 'it', 'a', 'bit', 'At', 'least', 'the', 'train', 'ride', 'down', 'will', 'give', 'me', 'time', 'to', 'write', 'to', 'manda', 'haven', 't', 'been', 'in', 'touch', 'since', 'the', 'wedding', 'bad', 'pen', 'pal']\n"
          ],
          "name": "stdout"
        }
      ]
    }
  ]
}
